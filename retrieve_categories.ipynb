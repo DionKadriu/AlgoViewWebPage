{
  "nbformat": 4,
  "nbformat_minor": 0,
  "metadata": {
    "colab": {
      "provenance": [],
      "include_colab_link": true
    },
    "kernelspec": {
      "name": "python3",
      "display_name": "Python 3"
    },
    "language_info": {
      "name": "python"
    }
  },
  "cells": [
    {
      "cell_type": "markdown",
      "metadata": {
        "id": "view-in-github",
        "colab_type": "text"
      },
      "source": [
        "<a href=\"https://colab.research.google.com/github/DionKadriu/AlgoViewWebPage/blob/main/retrieve_categories.ipynb\" target=\"_parent\"><img src=\"https://colab.research.google.com/assets/colab-badge.svg\" alt=\"Open In Colab\"/></a>"
      ]
    },
    {
      "cell_type": "code",
      "execution_count": null,
      "metadata": {
        "id": "sXylS7qJF07b"
      },
      "outputs": [],
      "source": [
        "import os"
      ]
    },
    {
      "cell_type": "code",
      "source": [
        "os.listdir()"
      ],
      "metadata": {
        "id": "nd3q9fS5F2Q9",
        "colab": {
          "base_uri": "https://localhost:8080/"
        },
        "outputId": "f8fa402e-e770-4565-8d9d-0609954458ff"
      },
      "execution_count": null,
      "outputs": [
        {
          "output_type": "execute_result",
          "data": {
            "text/plain": [
              "['.config', '.ipynb_checkpoints', 'drive', 'sample_data']"
            ]
          },
          "metadata": {},
          "execution_count": 4
        }
      ]
    },
    {
      "cell_type": "code",
      "source": [
        "categories_path = os.path.join(os.getcwd(), 'sample_data', 'AmazonCategories.csv')"
      ],
      "metadata": {
        "id": "hE-SrjArJsjM"
      },
      "execution_count": null,
      "outputs": []
    },
    {
      "cell_type": "code",
      "source": [
        "import csv\n",
        "\n",
        "with open(categories_path, \"r\") as f:\n",
        "  lines = [line.strip() for line in f][1:]\n",
        "\n",
        "# retrieve last non-empty element from each row\n",
        "categories_final = set()\n",
        "for line in lines:\n",
        "  args = line.split(\";\")\n",
        "  last_nonempty_item = \"\"\n",
        "  for arg in args:\n",
        "    if len(arg) > 0:\n",
        "      last_nonempty_item = arg\n",
        "  categories_final.add(last_nonempty_item)\n",
        "\n",
        "output_csv_path = 'sample_data/categories_final.csv'\n",
        "\n",
        "# Convert the set to a list so it can be written to a CSV file\n",
        "categories_list = list(categories_final)\n",
        "\n",
        "# Open the CSV file for writing\n",
        "with open(output_csv_path, 'w', newline='') as csvfile:\n",
        "    # Create a CSV writer object\n",
        "    csvwriter = csv.writer(csvfile)\n",
        "\n",
        "    # Write the list of categories to the CSV file\n",
        "    csvwriter.writerow(['Category'])  # Optional header row\n",
        "    for category in categories_list:\n",
        "        csvwriter.writerow([category])\n",
        "\n",
        "\n"
      ],
      "metadata": {
        "id": "GM8nKRoSJ23u"
      },
      "execution_count": null,
      "outputs": []
    },
    {
      "cell_type": "code",
      "source": [],
      "metadata": {
        "id": "nwS2aVxvKx6P"
      },
      "execution_count": null,
      "outputs": []
    }
  ]
}